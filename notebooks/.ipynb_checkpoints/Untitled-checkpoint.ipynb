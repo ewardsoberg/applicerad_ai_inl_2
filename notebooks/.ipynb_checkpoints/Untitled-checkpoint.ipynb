{
 "cells": [
  {
   "cell_type": "markdown",
   "id": "78010abf",
   "metadata": {},
   "source": [
    "## 1 Importer"
   ]
  },
  {
   "cell_type": "code",
   "execution_count": 178,
   "id": "9fec7270",
   "metadata": {},
   "outputs": [],
   "source": [
    "#Imports\n",
    "import matplotlib.pyplot as plt\n",
    "from imblearn.over_sampling import SMOTE\n",
    "from imblearn.pipeline import make_pipeline as smp\n",
    "from sklearn.preprocessing import StandardScaler \n",
    "from sklearn.neighbors import KNeighborsClassifier\n",
    "from sklearn.metrics import classification_report, confusion_matrix, ConfusionMatrixDisplay\n",
    "from sklearn.pipeline import make_pipeline\n",
    "from sklearn.linear_model import LogisticRegression\n",
    "from sklearn.model_selection import cross_val_score\n",
    "import pandas as pd\n",
    "import numpy as np\n",
    "import seaborn as sns\n",
    "from sklearn.cluster import KMeans\n",
    "from kneed import KneeLocator\n",
    "from sklearn.metrics import silhouette_score\n",
    "from collections import Counter"
   ]
  },
  {
   "cell_type": "markdown",
   "id": "825c7e6b",
   "metadata": {},
   "source": [
    "## 2 Klassifikation, läs in dataset"
   ]
  },
  {
   "cell_type": "code",
   "execution_count": 86,
   "id": "ff8cb9b8",
   "metadata": {},
   "outputs": [],
   "source": [
    "train_df = pd.read_csv('../datasets/class_train.csv')\n",
    "test_df = pd.read_csv('../datasets/class_test.csv')"
   ]
  },
  {
   "cell_type": "markdown",
   "id": "abf4f434",
   "metadata": {},
   "source": [
    "Splitta upp i X_train, y_train, X_test, y_test, där X är alla labels förutom Outcome och y är Outcome"
   ]
  },
  {
   "cell_type": "code",
   "execution_count": 87,
   "id": "88817331",
   "metadata": {},
   "outputs": [],
   "source": [
    "X_train = train_df.iloc[:,:-1]\n",
    "y_train = train_df.iloc[:,-1]\n",
    "X_test = test_df.iloc[:,:-1]\n",
    "y_test = test_df.iloc[:,-1]"
   ]
  },
  {
   "cell_type": "code",
   "execution_count": 68,
   "id": "fd35bce8",
   "metadata": {},
   "outputs": [
    {
     "data": {
      "text/html": [
       "<div>\n",
       "<style scoped>\n",
       "    .dataframe tbody tr th:only-of-type {\n",
       "        vertical-align: middle;\n",
       "    }\n",
       "\n",
       "    .dataframe tbody tr th {\n",
       "        vertical-align: top;\n",
       "    }\n",
       "\n",
       "    .dataframe thead th {\n",
       "        text-align: right;\n",
       "    }\n",
       "</style>\n",
       "<table border=\"1\" class=\"dataframe\">\n",
       "  <thead>\n",
       "    <tr style=\"text-align: right;\">\n",
       "      <th></th>\n",
       "      <th>Plasma renin activity</th>\n",
       "      <th>Aldosterone-to-renin ratio -more detailed ranges in Aldosterone/renin ratio article</th>\n",
       "      <th>Oxygen saturation</th>\n",
       "      <th>17α-Hydroxyprogesterone</th>\n",
       "      <th>Anti ds-DNA</th>\n",
       "      <th>Reticulocyte hemoglobin equivalent</th>\n",
       "      <th>Fibrinogen</th>\n",
       "      <th>Procalcitonin</th>\n",
       "      <th>SHBG -more detailed ranges in SHBG article</th>\n",
       "      <th>[H+]</th>\n",
       "      <th>...</th>\n",
       "      <th>LDL cholesterol  (Not valid when  triglycerides &gt;5.0 mmol/L)</th>\n",
       "      <th>Luteinizing hormone (LH)-more detailed menstrual cycle ranges in separate diagram</th>\n",
       "      <th>Alpha 1-antitrypsin (AAT)</th>\n",
       "      <th>Eosinophil cationic protein (ECP)</th>\n",
       "      <th>Absolute content of carbon dioxide (CO2)</th>\n",
       "      <th>Chloride (Cl)</th>\n",
       "      <th>Amylase</th>\n",
       "      <th>IgM</th>\n",
       "      <th>Copper (Cu)</th>\n",
       "      <th>Viscosity</th>\n",
       "    </tr>\n",
       "  </thead>\n",
       "  <tbody>\n",
       "    <tr>\n",
       "      <th>0</th>\n",
       "      <td>955.281824</td>\n",
       "      <td>6.008015</td>\n",
       "      <td>7.679162</td>\n",
       "      <td>8181.376094</td>\n",
       "      <td>637.176162</td>\n",
       "      <td>1655.935340</td>\n",
       "      <td>5572.232595</td>\n",
       "      <td>295.898724</td>\n",
       "      <td>8168.540684</td>\n",
       "      <td>1912.478041</td>\n",
       "      <td>...</td>\n",
       "      <td>4016.236375</td>\n",
       "      <td>9919.820568</td>\n",
       "      <td>4.764464</td>\n",
       "      <td>1911.290743</td>\n",
       "      <td>4.793836</td>\n",
       "      <td>7405.484356</td>\n",
       "      <td>10.522503</td>\n",
       "      <td>4644.152278</td>\n",
       "      <td>3.086409</td>\n",
       "      <td>7269.046415</td>\n",
       "    </tr>\n",
       "    <tr>\n",
       "      <th>1</th>\n",
       "      <td>1230.105982</td>\n",
       "      <td>16.004716</td>\n",
       "      <td>13.758903</td>\n",
       "      <td>10160.744348</td>\n",
       "      <td>826.173179</td>\n",
       "      <td>2005.291945</td>\n",
       "      <td>6645.645696</td>\n",
       "      <td>367.173919</td>\n",
       "      <td>9936.287732</td>\n",
       "      <td>2597.155427</td>\n",
       "      <td>...</td>\n",
       "      <td>4855.557147</td>\n",
       "      <td>12058.542281</td>\n",
       "      <td>21.412708</td>\n",
       "      <td>2225.412113</td>\n",
       "      <td>5.465201</td>\n",
       "      <td>8928.703718</td>\n",
       "      <td>20.770201</td>\n",
       "      <td>5900.118535</td>\n",
       "      <td>12.234226</td>\n",
       "      <td>8818.661328</td>\n",
       "    </tr>\n",
       "    <tr>\n",
       "      <th>2</th>\n",
       "      <td>1368.526126</td>\n",
       "      <td>3.397476</td>\n",
       "      <td>5.733414</td>\n",
       "      <td>11757.239383</td>\n",
       "      <td>963.221156</td>\n",
       "      <td>2309.067904</td>\n",
       "      <td>8208.582321</td>\n",
       "      <td>437.166464</td>\n",
       "      <td>11233.856279</td>\n",
       "      <td>2918.152097</td>\n",
       "      <td>...</td>\n",
       "      <td>5554.481089</td>\n",
       "      <td>14481.374431</td>\n",
       "      <td>5.024250</td>\n",
       "      <td>2828.177336</td>\n",
       "      <td>2.918513</td>\n",
       "      <td>10384.582517</td>\n",
       "      <td>1.224893</td>\n",
       "      <td>6798.340905</td>\n",
       "      <td>17.303987</td>\n",
       "      <td>10614.577165</td>\n",
       "    </tr>\n",
       "    <tr>\n",
       "      <th>3</th>\n",
       "      <td>1127.887803</td>\n",
       "      <td>6.128786</td>\n",
       "      <td>5.891781</td>\n",
       "      <td>9134.772017</td>\n",
       "      <td>737.518529</td>\n",
       "      <td>1859.595041</td>\n",
       "      <td>6469.579061</td>\n",
       "      <td>340.152779</td>\n",
       "      <td>9009.068421</td>\n",
       "      <td>2392.056388</td>\n",
       "      <td>...</td>\n",
       "      <td>4419.826305</td>\n",
       "      <td>10919.936385</td>\n",
       "      <td>1.362570</td>\n",
       "      <td>2130.646124</td>\n",
       "      <td>2.115228</td>\n",
       "      <td>8229.748093</td>\n",
       "      <td>2.486947</td>\n",
       "      <td>5371.300693</td>\n",
       "      <td>19.875223</td>\n",
       "      <td>8077.366728</td>\n",
       "    </tr>\n",
       "    <tr>\n",
       "      <th>4</th>\n",
       "      <td>1279.789838</td>\n",
       "      <td>11.834707</td>\n",
       "      <td>2.035606</td>\n",
       "      <td>10233.512908</td>\n",
       "      <td>836.776751</td>\n",
       "      <td>2064.653384</td>\n",
       "      <td>7036.941075</td>\n",
       "      <td>377.650340</td>\n",
       "      <td>10082.609454</td>\n",
       "      <td>2723.896231</td>\n",
       "      <td>...</td>\n",
       "      <td>4968.846781</td>\n",
       "      <td>12106.667363</td>\n",
       "      <td>13.604294</td>\n",
       "      <td>2284.807267</td>\n",
       "      <td>1.553677</td>\n",
       "      <td>9033.725105</td>\n",
       "      <td>0.833231</td>\n",
       "      <td>6061.031816</td>\n",
       "      <td>11.714379</td>\n",
       "      <td>8916.594576</td>\n",
       "    </tr>\n",
       "    <tr>\n",
       "      <th>...</th>\n",
       "      <td>...</td>\n",
       "      <td>...</td>\n",
       "      <td>...</td>\n",
       "      <td>...</td>\n",
       "      <td>...</td>\n",
       "      <td>...</td>\n",
       "      <td>...</td>\n",
       "      <td>...</td>\n",
       "      <td>...</td>\n",
       "      <td>...</td>\n",
       "      <td>...</td>\n",
       "      <td>...</td>\n",
       "      <td>...</td>\n",
       "      <td>...</td>\n",
       "      <td>...</td>\n",
       "      <td>...</td>\n",
       "      <td>...</td>\n",
       "      <td>...</td>\n",
       "      <td>...</td>\n",
       "      <td>...</td>\n",
       "      <td>...</td>\n",
       "    </tr>\n",
       "    <tr>\n",
       "      <th>86</th>\n",
       "      <td>1373.183107</td>\n",
       "      <td>11.334268</td>\n",
       "      <td>9.278307</td>\n",
       "      <td>12874.016718</td>\n",
       "      <td>947.081052</td>\n",
       "      <td>2543.143397</td>\n",
       "      <td>8013.777910</td>\n",
       "      <td>427.936187</td>\n",
       "      <td>12404.850823</td>\n",
       "      <td>2849.134647</td>\n",
       "      <td>...</td>\n",
       "      <td>5430.531524</td>\n",
       "      <td>16275.933584</td>\n",
       "      <td>2.070899</td>\n",
       "      <td>3225.723050</td>\n",
       "      <td>16.915146</td>\n",
       "      <td>12136.956384</td>\n",
       "      <td>1.444042</td>\n",
       "      <td>6712.266482</td>\n",
       "      <td>5.914482</td>\n",
       "      <td>12009.927710</td>\n",
       "    </tr>\n",
       "    <tr>\n",
       "      <th>87</th>\n",
       "      <td>1289.067673</td>\n",
       "      <td>9.607217</td>\n",
       "      <td>15.710244</td>\n",
       "      <td>11537.322682</td>\n",
       "      <td>894.136363</td>\n",
       "      <td>2301.944396</td>\n",
       "      <td>7582.830102</td>\n",
       "      <td>403.539153</td>\n",
       "      <td>11404.126418</td>\n",
       "      <td>2510.321902</td>\n",
       "      <td>...</td>\n",
       "      <td>5633.636667</td>\n",
       "      <td>14433.974443</td>\n",
       "      <td>5.028107</td>\n",
       "      <td>2720.444062</td>\n",
       "      <td>8.510474</td>\n",
       "      <td>10085.323797</td>\n",
       "      <td>4.375711</td>\n",
       "      <td>6417.631070</td>\n",
       "      <td>0.199855</td>\n",
       "      <td>10483.594566</td>\n",
       "    </tr>\n",
       "    <tr>\n",
       "      <th>88</th>\n",
       "      <td>1621.160150</td>\n",
       "      <td>6.373918</td>\n",
       "      <td>0.017556</td>\n",
       "      <td>15044.774807</td>\n",
       "      <td>1154.551378</td>\n",
       "      <td>2913.107109</td>\n",
       "      <td>9844.386233</td>\n",
       "      <td>527.530958</td>\n",
       "      <td>14118.532721</td>\n",
       "      <td>3483.403168</td>\n",
       "      <td>...</td>\n",
       "      <td>6384.963347</td>\n",
       "      <td>18869.412659</td>\n",
       "      <td>12.191804</td>\n",
       "      <td>3806.951354</td>\n",
       "      <td>6.021997</td>\n",
       "      <td>14225.998809</td>\n",
       "      <td>8.858832</td>\n",
       "      <td>8059.281783</td>\n",
       "      <td>23.916894</td>\n",
       "      <td>13900.394300</td>\n",
       "    </tr>\n",
       "    <tr>\n",
       "      <th>89</th>\n",
       "      <td>1290.317250</td>\n",
       "      <td>13.447630</td>\n",
       "      <td>4.007421</td>\n",
       "      <td>11806.934039</td>\n",
       "      <td>972.720806</td>\n",
       "      <td>2251.946811</td>\n",
       "      <td>8219.611095</td>\n",
       "      <td>444.315311</td>\n",
       "      <td>11067.514159</td>\n",
       "      <td>2764.773811</td>\n",
       "      <td>...</td>\n",
       "      <td>5459.955557</td>\n",
       "      <td>14815.031951</td>\n",
       "      <td>3.312119</td>\n",
       "      <td>2945.366347</td>\n",
       "      <td>9.092053</td>\n",
       "      <td>10460.600808</td>\n",
       "      <td>13.395993</td>\n",
       "      <td>6701.452005</td>\n",
       "      <td>9.452705</td>\n",
       "      <td>10804.483142</td>\n",
       "    </tr>\n",
       "    <tr>\n",
       "      <th>90</th>\n",
       "      <td>2177.521833</td>\n",
       "      <td>13.372451</td>\n",
       "      <td>13.705158</td>\n",
       "      <td>20377.422914</td>\n",
       "      <td>1509.048094</td>\n",
       "      <td>3879.246027</td>\n",
       "      <td>11988.064630</td>\n",
       "      <td>652.844528</td>\n",
       "      <td>18702.498332</td>\n",
       "      <td>4550.818015</td>\n",
       "      <td>...</td>\n",
       "      <td>8356.321392</td>\n",
       "      <td>25621.814366</td>\n",
       "      <td>4.615008</td>\n",
       "      <td>4886.094148</td>\n",
       "      <td>6.265256</td>\n",
       "      <td>19282.568989</td>\n",
       "      <td>5.077717</td>\n",
       "      <td>10472.781534</td>\n",
       "      <td>8.189797</td>\n",
       "      <td>18628.620764</td>\n",
       "    </tr>\n",
       "  </tbody>\n",
       "</table>\n",
       "<p>91 rows × 159 columns</p>\n",
       "</div>"
      ],
      "text/plain": [
       "    Plasma renin activity  \\\n",
       "0              955.281824   \n",
       "1             1230.105982   \n",
       "2             1368.526126   \n",
       "3             1127.887803   \n",
       "4             1279.789838   \n",
       "..                    ...   \n",
       "86            1373.183107   \n",
       "87            1289.067673   \n",
       "88            1621.160150   \n",
       "89            1290.317250   \n",
       "90            2177.521833   \n",
       "\n",
       "    Aldosterone-to-renin ratio -more detailed ranges in Aldosterone/renin ratio article  \\\n",
       "0                                            6.008015                                     \n",
       "1                                           16.004716                                     \n",
       "2                                            3.397476                                     \n",
       "3                                            6.128786                                     \n",
       "4                                           11.834707                                     \n",
       "..                                                ...                                     \n",
       "86                                          11.334268                                     \n",
       "87                                           9.607217                                     \n",
       "88                                           6.373918                                     \n",
       "89                                          13.447630                                     \n",
       "90                                          13.372451                                     \n",
       "\n",
       "    Oxygen saturation  17α-Hydroxyprogesterone  Anti ds-DNA  \\\n",
       "0            7.679162              8181.376094   637.176162   \n",
       "1           13.758903             10160.744348   826.173179   \n",
       "2            5.733414             11757.239383   963.221156   \n",
       "3            5.891781              9134.772017   737.518529   \n",
       "4            2.035606             10233.512908   836.776751   \n",
       "..                ...                      ...          ...   \n",
       "86           9.278307             12874.016718   947.081052   \n",
       "87          15.710244             11537.322682   894.136363   \n",
       "88           0.017556             15044.774807  1154.551378   \n",
       "89           4.007421             11806.934039   972.720806   \n",
       "90          13.705158             20377.422914  1509.048094   \n",
       "\n",
       "    Reticulocyte hemoglobin equivalent    Fibrinogen  Procalcitonin  \\\n",
       "0                          1655.935340   5572.232595     295.898724   \n",
       "1                          2005.291945   6645.645696     367.173919   \n",
       "2                          2309.067904   8208.582321     437.166464   \n",
       "3                          1859.595041   6469.579061     340.152779   \n",
       "4                          2064.653384   7036.941075     377.650340   \n",
       "..                                 ...           ...            ...   \n",
       "86                         2543.143397   8013.777910     427.936187   \n",
       "87                         2301.944396   7582.830102     403.539153   \n",
       "88                         2913.107109   9844.386233     527.530958   \n",
       "89                         2251.946811   8219.611095     444.315311   \n",
       "90                         3879.246027  11988.064630     652.844528   \n",
       "\n",
       "    SHBG -more detailed ranges in SHBG article         [H+]  ...  \\\n",
       "0                                  8168.540684  1912.478041  ...   \n",
       "1                                  9936.287732  2597.155427  ...   \n",
       "2                                 11233.856279  2918.152097  ...   \n",
       "3                                  9009.068421  2392.056388  ...   \n",
       "4                                 10082.609454  2723.896231  ...   \n",
       "..                                         ...          ...  ...   \n",
       "86                                12404.850823  2849.134647  ...   \n",
       "87                                11404.126418  2510.321902  ...   \n",
       "88                                14118.532721  3483.403168  ...   \n",
       "89                                11067.514159  2764.773811  ...   \n",
       "90                                18702.498332  4550.818015  ...   \n",
       "\n",
       "    LDL cholesterol  (Not valid when  triglycerides >5.0 mmol/L)  \\\n",
       "0                                         4016.236375              \n",
       "1                                         4855.557147              \n",
       "2                                         5554.481089              \n",
       "3                                         4419.826305              \n",
       "4                                         4968.846781              \n",
       "..                                                ...              \n",
       "86                                        5430.531524              \n",
       "87                                        5633.636667              \n",
       "88                                        6384.963347              \n",
       "89                                        5459.955557              \n",
       "90                                        8356.321392              \n",
       "\n",
       "    Luteinizing hormone (LH)-more detailed menstrual cycle ranges in separate diagram  \\\n",
       "0                                         9919.820568                                   \n",
       "1                                        12058.542281                                   \n",
       "2                                        14481.374431                                   \n",
       "3                                        10919.936385                                   \n",
       "4                                        12106.667363                                   \n",
       "..                                                ...                                   \n",
       "86                                       16275.933584                                   \n",
       "87                                       14433.974443                                   \n",
       "88                                       18869.412659                                   \n",
       "89                                       14815.031951                                   \n",
       "90                                       25621.814366                                   \n",
       "\n",
       "    Alpha 1-antitrypsin (AAT)  Eosinophil cationic protein (ECP)  \\\n",
       "0                    4.764464                        1911.290743   \n",
       "1                   21.412708                        2225.412113   \n",
       "2                    5.024250                        2828.177336   \n",
       "3                    1.362570                        2130.646124   \n",
       "4                   13.604294                        2284.807267   \n",
       "..                        ...                                ...   \n",
       "86                   2.070899                        3225.723050   \n",
       "87                   5.028107                        2720.444062   \n",
       "88                  12.191804                        3806.951354   \n",
       "89                   3.312119                        2945.366347   \n",
       "90                   4.615008                        4886.094148   \n",
       "\n",
       "    Absolute content of carbon dioxide (CO2)  Chloride (Cl)    Amylase  \\\n",
       "0                                   4.793836    7405.484356  10.522503   \n",
       "1                                   5.465201    8928.703718  20.770201   \n",
       "2                                   2.918513   10384.582517   1.224893   \n",
       "3                                   2.115228    8229.748093   2.486947   \n",
       "4                                   1.553677    9033.725105   0.833231   \n",
       "..                                       ...            ...        ...   \n",
       "86                                 16.915146   12136.956384   1.444042   \n",
       "87                                  8.510474   10085.323797   4.375711   \n",
       "88                                  6.021997   14225.998809   8.858832   \n",
       "89                                  9.092053   10460.600808  13.395993   \n",
       "90                                  6.265256   19282.568989   5.077717   \n",
       "\n",
       "             IgM  Copper (Cu)     Viscosity  \n",
       "0    4644.152278     3.086409   7269.046415  \n",
       "1    5900.118535    12.234226   8818.661328  \n",
       "2    6798.340905    17.303987  10614.577165  \n",
       "3    5371.300693    19.875223   8077.366728  \n",
       "4    6061.031816    11.714379   8916.594576  \n",
       "..           ...          ...           ...  \n",
       "86   6712.266482     5.914482  12009.927710  \n",
       "87   6417.631070     0.199855  10483.594566  \n",
       "88   8059.281783    23.916894  13900.394300  \n",
       "89   6701.452005     9.452705  10804.483142  \n",
       "90  10472.781534     8.189797  18628.620764  \n",
       "\n",
       "[91 rows x 159 columns]"
      ]
     },
     "execution_count": 68,
     "metadata": {},
     "output_type": "execute_result"
    }
   ],
   "source": [
    "X_train"
   ]
  },
  {
   "cell_type": "code",
   "execution_count": 69,
   "id": "270638f0",
   "metadata": {},
   "outputs": [
    {
     "data": {
      "text/plain": [
       "0     0\n",
       "1     0\n",
       "2     0\n",
       "3     0\n",
       "4     0\n",
       "     ..\n",
       "86    1\n",
       "87    1\n",
       "88    1\n",
       "89    1\n",
       "90    1\n",
       "Name: Outcome, Length: 91, dtype: int64"
      ]
     },
     "execution_count": 69,
     "metadata": {},
     "output_type": "execute_result"
    }
   ],
   "source": [
    "y_train"
   ]
  },
  {
   "cell_type": "markdown",
   "id": "51c405c8",
   "metadata": {},
   "source": [
    "### 2.1 DataAnalys, Kolla klass imbalans och Null värden"
   ]
  },
  {
   "cell_type": "code",
   "execution_count": 70,
   "id": "e74abf43",
   "metadata": {},
   "outputs": [
    {
     "data": {
      "text/plain": [
       "0"
      ]
     },
     "execution_count": 70,
     "metadata": {},
     "output_type": "execute_result"
    }
   ],
   "source": [
    "train_df.isnull().values.any().sum()"
   ]
  },
  {
   "cell_type": "code",
   "execution_count": 71,
   "id": "b687f3ef",
   "metadata": {},
   "outputs": [
    {
     "data": {
      "text/plain": [
       "0"
      ]
     },
     "execution_count": 71,
     "metadata": {},
     "output_type": "execute_result"
    }
   ],
   "source": [
    "test_df.isnull().values.any().sum()"
   ]
  },
  {
   "cell_type": "code",
   "execution_count": 140,
   "id": "cac948c0",
   "metadata": {},
   "outputs": [
    {
     "data": {
      "image/png": "[encoded data removed]",
      "text/plain": [
       "<Figure size 432x288 with 1 Axes>"
      ]
     },
     "metadata": {
      "needs_background": "light"
     },
     "output_type": "display_data"
    }
   ],
   "source": [
    "outcome = sns.countplot(x=train_df['Outcome'])\n",
    "outcome.set_xticklabels(['Outcome0','Outcome1'])\n",
    "plt.show()"
   ]
  },
  {
   "cell_type": "markdown",
   "id": "74a0cd03",
   "metadata": {},
   "source": [
    "Testar Imbalanced learn paketet och använder SMOTE - Synthetic Minority Over-sampling Technique för att göra Over_sampling."
   ]
  },
  {
   "cell_type": "code",
   "execution_count": 97,
   "id": "e5dffe5a",
   "metadata": {},
   "outputs": [
    {
     "name": "stdout",
     "output_type": "stream",
     "text": [
      "Original dataset shape Counter({1: 56, 0: 35})\n",
      "Resample dataset shape Counter({0: 56, 1: 56})\n"
     ]
    }
   ],
   "source": [
    "smote = SMOTE()\n",
    "\n",
    "# fit predictor and target variable\n",
    "X_smote, y_smote = smote.fit_resample(X_train, y_train)\n",
    "\n",
    "print('Original dataset shape', Counter(y_train))\n",
    "print('Resample dataset shape', Counter(y_smote))"
   ]
  },
  {
   "cell_type": "markdown",
   "id": "89c69449",
   "metadata": {},
   "source": [
    "### 2.2 Modell"
   ]
  },
  {
   "cell_type": "markdown",
   "id": "671d12cd",
   "metadata": {},
   "source": [
    "Här används LogisticRegression utan SMOTE. F1-weighted score = 0.49"
   ]
  },
  {
   "cell_type": "code",
   "execution_count": 129,
   "id": "54c1376a",
   "metadata": {},
   "outputs": [
    {
     "name": "stdout",
     "output_type": "stream",
     "text": [
      "              precision    recall  f1-score   support\n",
      "\n",
      "           0       0.70      0.41      0.52        17\n",
      "           1       0.33      0.62      0.43         8\n",
      "\n",
      "    accuracy                           0.48        25\n",
      "   macro avg       0.52      0.52      0.48        25\n",
      "weighted avg       0.58      0.48      0.49        25\n",
      "\n"
     ]
    },
    {
     "data": {
      "image/png": "[encoded data removed]",
      "text/plain": [
       "<Figure size 432x288 with 2 Axes>"
      ]
     },
     "metadata": {
      "needs_background": "light"
     },
     "output_type": "display_data"
    }
   ],
   "source": [
    "clf_log_reg = make_pipeline(StandardScaler(), LogisticRegression(random_state=0))\n",
    "clf_log_reg.fit(X_train, y_train)\n",
    "\n",
    "y_pred_cls_log = clf_log_reg.predict(X_test)\n",
    "\n",
    "cm = confusion_matrix(y_test, y_pred_cls_log)\n",
    "cm_display = ConfusionMatrixDisplay(cm).plot()\n",
    "print(classification_report(y_test, y_pred_cls_log))"
   ]
  },
  {
   "cell_type": "markdown",
   "id": "c3b5db45",
   "metadata": {},
   "source": [
    "Här används LogisticRegression med SMOTE. F1-weighted score = 0.53"
   ]
  },
  {
   "cell_type": "code",
   "execution_count": 131,
   "id": "ec13ff09",
   "metadata": {},
   "outputs": [
    {
     "name": "stdout",
     "output_type": "stream",
     "text": [
      "              precision    recall  f1-score   support\n",
      "\n",
      "           0       0.73      0.47      0.57        17\n",
      "           1       0.36      0.62      0.45         8\n",
      "\n",
      "    accuracy                           0.52        25\n",
      "   macro avg       0.54      0.55      0.51        25\n",
      "weighted avg       0.61      0.52      0.53        25\n",
      "\n"
     ]
    },
    {
     "data": {
      "image/png": "[encoded data removed]",
      "text/plain": [
       "<Figure size 432x288 with 2 Axes>"
      ]
     },
     "metadata": {
      "needs_background": "light"
     },
     "output_type": "display_data"
    }
   ],
   "source": [
    "imba_pipeline_log_reg = smp(SMOTE(),\n",
    "                StandardScaler(),\n",
    "                    LogisticRegression(random_state=0))\n",
    "imba_pipeline_log_reg.fit(X_train, y_train)\n",
    "\n",
    "y_pred_imba_pipline_log_reg = imba_pipeline_log_reg.predict(X_test)\n",
    "\n",
    "cm = confusion_matrix(y_test, y_pred_imba_pipline_log_reg)\n",
    "cm_display = ConfusionMatrixDisplay(cm).plot()\n",
    "print(classification_report(y_test, y_pred_imba_pipline_log_reg))"
   ]
  },
  {
   "cell_type": "markdown",
   "id": "ef5cde72",
   "metadata": {},
   "source": [
    "Här används KNeighborsClassifier utan SMOTE. F1-weighted score = 0.45"
   ]
  },
  {
   "cell_type": "code",
   "execution_count": 132,
   "id": "6c1ffac1",
   "metadata": {},
   "outputs": [
    {
     "name": "stdout",
     "output_type": "stream",
     "text": [
      "              precision    recall  f1-score   support\n",
      "\n",
      "           0       0.67      0.35      0.46        17\n",
      "           1       0.31      0.62      0.42         8\n",
      "\n",
      "    accuracy                           0.44        25\n",
      "   macro avg       0.49      0.49      0.44        25\n",
      "weighted avg       0.55      0.44      0.45        25\n",
      "\n"
     ]
    },
    {
     "data": {
      "image/png": "[encoded data removed]",
      "text/plain": [
       "<Figure size 432x288 with 2 Axes>"
      ]
     },
     "metadata": {
      "needs_background": "light"
     },
     "output_type": "display_data"
    }
   ],
   "source": [
    "clf_k_neig = make_pipeline(StandardScaler(), KNeighborsClassifier(n_neighbors=5))\n",
    "clf_k_neig.fit(X_train, y_train)\n",
    "\n",
    "y_pred_clf_k_neig = clf_k_neig.predict(X_test)\n",
    "\n",
    "cm = confusion_matrix(y_test, y_pred_clf_k_neig)\n",
    "cm_display = ConfusionMatrixDisplay(cm).plot()\n",
    "print(classification_report(y_test, y_pred_clf_k_neig))"
   ]
  },
  {
   "cell_type": "markdown",
   "id": "23a762cf",
   "metadata": {},
   "source": [
    "Här används KNeighborsClassifier med SMOTE. F1-weighted score = 0.49"
   ]
  },
  {
   "cell_type": "code",
   "execution_count": 133,
   "id": "eca0089c",
   "metadata": {},
   "outputs": [
    {
     "name": "stdout",
     "output_type": "stream",
     "text": [
      "              precision    recall  f1-score   support\n",
      "\n",
      "           0       0.64      0.82      0.72        17\n",
      "           1       0.00      0.00      0.00         8\n",
      "\n",
      "    accuracy                           0.56        25\n",
      "   macro avg       0.32      0.41      0.36        25\n",
      "weighted avg       0.43      0.56      0.49        25\n",
      "\n"
     ]
    },
    {
     "data": {
      "image/png": "[encoded data removed]",
      "text/plain": [
       "<Figure size 432x288 with 2 Axes>"
      ]
     },
     "metadata": {
      "needs_background": "light"
     },
     "output_type": "display_data"
    }
   ],
   "source": [
    "imba_pipeline_k_neig = smp(SMOTE(),\n",
    "                StandardScaler(),\n",
    "                KNeighborsClassifier(n_neighbors=5))\n",
    "imba_pipeline_k_neig.fit(X_train, y_train)\n",
    "\n",
    "y_pred_imba_pipline_k_neig = imba_pipeline_k_neig.predict(X_test)\n",
    "\n",
    "cm = confusion_matrix(y_test, y_pred_imba_pipline_k_neig)\n",
    "cm_display = ConfusionMatrixDisplay(cm).plot()\n",
    "print(classification_report(y_test, y_pred_imba_pipline_k_neig))"
   ]
  },
  {
   "cell_type": "markdown",
   "id": "d14e5baf",
   "metadata": {},
   "source": [
    "## 4 Klustering"
   ]
  },
  {
   "cell_type": "markdown",
   "id": "f372023b",
   "metadata": {},
   "source": [
    "### Läs in data"
   ]
  },
  {
   "cell_type": "code",
   "execution_count": 141,
   "id": "91e116eb",
   "metadata": {},
   "outputs": [],
   "source": [
    "cluster_df = pd.read_csv('../datasets/cluster_Data.csv')"
   ]
  },
  {
   "cell_type": "code",
   "execution_count": 142,
   "id": "6e1cafa2",
   "metadata": {},
   "outputs": [
    {
     "data": {
      "text/html": [
       "<div>\n",
       "<style scoped>\n",
       "    .dataframe tbody tr th:only-of-type {\n",
       "        vertical-align: middle;\n",
       "    }\n",
       "\n",
       "    .dataframe tbody tr th {\n",
       "        vertical-align: top;\n",
       "    }\n",
       "\n",
       "    .dataframe thead th {\n",
       "        text-align: right;\n",
       "    }\n",
       "</style>\n",
       "<table border=\"1\" class=\"dataframe\">\n",
       "  <thead>\n",
       "    <tr style=\"text-align: right;\">\n",
       "      <th></th>\n",
       "      <th>bill_length_mm</th>\n",
       "      <th>bill_depth_mm</th>\n",
       "      <th>flipper_length_mm</th>\n",
       "      <th>body_mass_g</th>\n",
       "    </tr>\n",
       "  </thead>\n",
       "  <tbody>\n",
       "    <tr>\n",
       "      <th>0</th>\n",
       "      <td>39.1</td>\n",
       "      <td>18.7</td>\n",
       "      <td>181.0</td>\n",
       "      <td>3750.0</td>\n",
       "    </tr>\n",
       "    <tr>\n",
       "      <th>1</th>\n",
       "      <td>39.5</td>\n",
       "      <td>17.4</td>\n",
       "      <td>186.0</td>\n",
       "      <td>3800.0</td>\n",
       "    </tr>\n",
       "    <tr>\n",
       "      <th>2</th>\n",
       "      <td>40.3</td>\n",
       "      <td>18.0</td>\n",
       "      <td>195.0</td>\n",
       "      <td>3250.0</td>\n",
       "    </tr>\n",
       "    <tr>\n",
       "      <th>3</th>\n",
       "      <td>36.7</td>\n",
       "      <td>19.3</td>\n",
       "      <td>193.0</td>\n",
       "      <td>3450.0</td>\n",
       "    </tr>\n",
       "    <tr>\n",
       "      <th>4</th>\n",
       "      <td>39.3</td>\n",
       "      <td>20.6</td>\n",
       "      <td>190.0</td>\n",
       "      <td>3650.0</td>\n",
       "    </tr>\n",
       "    <tr>\n",
       "      <th>...</th>\n",
       "      <td>...</td>\n",
       "      <td>...</td>\n",
       "      <td>...</td>\n",
       "      <td>...</td>\n",
       "    </tr>\n",
       "    <tr>\n",
       "      <th>337</th>\n",
       "      <td>47.2</td>\n",
       "      <td>13.7</td>\n",
       "      <td>214.0</td>\n",
       "      <td>4925.0</td>\n",
       "    </tr>\n",
       "    <tr>\n",
       "      <th>338</th>\n",
       "      <td>46.8</td>\n",
       "      <td>14.3</td>\n",
       "      <td>215.0</td>\n",
       "      <td>4850.0</td>\n",
       "    </tr>\n",
       "    <tr>\n",
       "      <th>339</th>\n",
       "      <td>50.4</td>\n",
       "      <td>15.7</td>\n",
       "      <td>222.0</td>\n",
       "      <td>5750.0</td>\n",
       "    </tr>\n",
       "    <tr>\n",
       "      <th>340</th>\n",
       "      <td>45.2</td>\n",
       "      <td>14.8</td>\n",
       "      <td>212.0</td>\n",
       "      <td>5200.0</td>\n",
       "    </tr>\n",
       "    <tr>\n",
       "      <th>341</th>\n",
       "      <td>49.9</td>\n",
       "      <td>16.1</td>\n",
       "      <td>213.0</td>\n",
       "      <td>5400.0</td>\n",
       "    </tr>\n",
       "  </tbody>\n",
       "</table>\n",
       "<p>342 rows × 4 columns</p>\n",
       "</div>"
      ],
      "text/plain": [
       "     bill_length_mm  bill_depth_mm  flipper_length_mm  body_mass_g\n",
       "0              39.1           18.7              181.0       3750.0\n",
       "1              39.5           17.4              186.0       3800.0\n",
       "2              40.3           18.0              195.0       3250.0\n",
       "3              36.7           19.3              193.0       3450.0\n",
       "4              39.3           20.6              190.0       3650.0\n",
       "..              ...            ...                ...          ...\n",
       "337            47.2           13.7              214.0       4925.0\n",
       "338            46.8           14.3              215.0       4850.0\n",
       "339            50.4           15.7              222.0       5750.0\n",
       "340            45.2           14.8              212.0       5200.0\n",
       "341            49.9           16.1              213.0       5400.0\n",
       "\n",
       "[342 rows x 4 columns]"
      ]
     },
     "execution_count": 142,
     "metadata": {},
     "output_type": "execute_result"
    }
   ],
   "source": [
    "cluster_df"
   ]
  },
  {
   "cell_type": "code",
   "execution_count": 143,
   "id": "e3d61032",
   "metadata": {},
   "outputs": [],
   "source": [
    "cluster_array = cluster_df.to_numpy()"
   ]
  },
  {
   "cell_type": "code",
   "execution_count": 144,
   "id": "b0ef4dd7",
   "metadata": {},
   "outputs": [
    {
     "data": {
      "text/plain": [
       "array([[  39.1,   18.7,  181. , 3750. ],\n",
       "       [  39.5,   17.4,  186. , 3800. ],\n",
       "       [  40.3,   18. ,  195. , 3250. ],\n",
       "       ...,\n",
       "       [  50.4,   15.7,  222. , 5750. ],\n",
       "       [  45.2,   14.8,  212. , 5200. ],\n",
       "       [  49.9,   16.1,  213. , 5400. ]])"
      ]
     },
     "execution_count": 144,
     "metadata": {},
     "output_type": "execute_result"
    }
   ],
   "source": [
    "cluster_array"
   ]
  },
  {
   "cell_type": "markdown",
   "id": "51336942",
   "metadata": {},
   "source": [
    "Standariserar värdena i cluster_array med hjälp av scikit-learn StandardSclaer()"
   ]
  },
  {
   "cell_type": "code",
   "execution_count": 145,
   "id": "adaf6c5f",
   "metadata": {},
   "outputs": [],
   "source": [
    "scaler = StandardScaler()\n",
    "scaled_cluster_array = scaler.fit_transform(cluster_array)"
   ]
  },
  {
   "cell_type": "code",
   "execution_count": 146,
   "id": "b2a433e9",
   "metadata": {},
   "outputs": [
    {
     "data": {
      "text/plain": [
       "array([[-0.88449874,  0.78544923, -1.41834665, -0.56414208],\n",
       "       [-0.81112573,  0.1261879 , -1.06225022, -0.50170305],\n",
       "       [-0.66437972,  0.43046236, -0.42127665, -1.18853234],\n",
       "       ...,\n",
       "       [ 1.18828874, -0.73592307,  1.50164406,  1.93341896],\n",
       "       [ 0.23443963, -1.19233476,  0.7894512 ,  1.24658968],\n",
       "       [ 1.09657248, -0.53307343,  0.86067049,  1.49634578]])"
      ]
     },
     "execution_count": 146,
     "metadata": {},
     "output_type": "execute_result"
    }
   ],
   "source": [
    "scaled_cluster_array"
   ]
  },
  {
   "cell_type": "markdown",
   "id": "b71904f0",
   "metadata": {},
   "source": [
    "Tar reda på optimala k med hjälp av the elbow method."
   ]
  },
  {
   "cell_type": "code",
   "execution_count": 169,
   "id": "61626073",
   "metadata": {},
   "outputs": [],
   "source": [
    "kmeans_kwargs = {\n",
    "\"init\": \"random\",\n",
    "\"n_init\": 10,\n",
    "\"max_iter\": 300,\n",
    "\"random_state\": 42,\n",
    "}"
   ]
  },
  {
   "cell_type": "code",
   "execution_count": 172,
   "id": "b2539c3f",
   "metadata": {},
   "outputs": [
    {
     "data": {
      "text/plain": [
       "Text(0, 0.5, 'WCSS')"
      ]
     },
     "execution_count": 172,
     "metadata": {},
     "output_type": "execute_result"
    },
    {
     "data": {
      "image/png": "[encoded data removed]",
      "text/plain": [
       "<Figure size 432x288 with 1 Axes>"
      ]
     },
     "metadata": {},
     "output_type": "display_data"
    }
   ],
   "source": [
    "wcss=[]\n",
    "for i in range(1,10):\n",
    "    kmeans = KMeans(n_clusters=i, **kmeans_kwargs)\n",
    "    kmeans.fit(scaled_cluster_array)\n",
    "    wcss_iter = kmeans.inertia_\n",
    "    wcss.append(wcss_iter)\n",
    "\n",
    "number_clusters = range(1,10)\n",
    "plt.plot(number_clusters,wcss)\n",
    "plt.title('The Elbow title')\n",
    "plt.xlabel('Number of clusters')\n",
    "plt.ylabel('WCSS')"
   ]
  },
  {
   "cell_type": "code",
   "execution_count": 173,
   "id": "38f7747e",
   "metadata": {},
   "outputs": [
    {
     "name": "stdout",
     "output_type": "stream",
     "text": [
      "3\n"
     ]
    }
   ],
   "source": [
    "kl = KneeLocator(range(1, 10), wcss, curve=\"convex\", direction=\"decreasing\")\n",
    "print(kl.elbow)"
   ]
  },
  {
   "cell_type": "markdown",
   "id": "f2650a48",
   "metadata": {},
   "source": [
    "Testar silhouette_coefficients för att ta reda på optimala k"
   ]
  },
  {
   "cell_type": "code",
   "execution_count": 170,
   "id": "305e7096",
   "metadata": {},
   "outputs": [],
   "source": [
    "silhouette_coefficients = []\n",
    "for k in range(2, 11):\n",
    "    kmeans = KMeans(n_clusters=k, **kmeans_kwargs)\n",
    "    kmeans.fit(scaled_cluster_array)\n",
    "    score = silhouette_score(scaled_cluster_array, kmeans.labels_)\n",
    "    silhouette_coefficients.append(score)"
   ]
  },
  {
   "cell_type": "code",
   "execution_count": 171,
   "id": "7d4e5850",
   "metadata": {},
   "outputs": [
    {
     "data": {
      "image/png": "[encoded data removed]",
      "text/plain": [
       "<Figure size 432x288 with 1 Axes>"
      ]
     },
     "metadata": {},
     "output_type": "display_data"
    }
   ],
   "source": [
    "plt.style.use(\"fivethirtyeight\")\n",
    "plt.plot(range(2, 11), silhouette_coefficients)\n",
    "plt.xticks(range(2, 11))\n",
    "plt.xlabel(\"Number of Clusters\")\n",
    "plt.ylabel(\"Silhouette Coefficient\")\n",
    "plt.show()"
   ]
  },
  {
   "cell_type": "code",
   "execution_count": 174,
   "id": "2b39b210",
   "metadata": {},
   "outputs": [],
   "source": [
    "kmeans = KMeans(n_clusters=3)\n",
    "kmeans.fit(scaled_cluster_array)\n",
    "y_kmeans = kmeans.predict(scaled_cluster_array)"
   ]
  },
  {
   "cell_type": "code",
   "execution_count": 177,
   "id": "0249d66c",
   "metadata": {},
   "outputs": [
    {
     "data": {
      "text/plain": [
       "array([2, 2, 2, 2, 2, 2, 2, 2, 0, 2, 2, 2, 2, 2, 2, 2, 0, 2, 0, 2, 2, 2,\n",
       "       2, 2, 2, 2, 2, 2, 2, 2, 2, 2, 2, 2, 2, 2, 2, 2, 2, 2, 2, 2, 0, 2,\n",
       "       2, 2, 2, 2, 0, 2, 2, 2, 0, 2, 2, 2, 2, 2, 2, 2, 0, 2, 2, 2, 2, 2,\n",
       "       2, 2, 0, 2, 2, 2, 0, 2, 0, 2, 2, 2, 0, 2, 0, 2, 2, 2, 2, 2, 2, 2,\n",
       "       2, 2, 0, 2, 2, 2, 0, 2, 2, 2, 0, 2, 0, 2, 2, 2, 2, 2, 2, 2, 0, 2,\n",
       "       0, 2, 0, 2, 0, 2, 2, 2, 2, 2, 2, 2, 0, 2, 2, 2, 2, 2, 0, 2, 0, 2,\n",
       "       2, 2, 2, 2, 2, 2, 2, 2, 2, 2, 2, 2, 2, 2, 2, 2, 2, 2, 0, 0, 0, 0,\n",
       "       0, 0, 0, 0, 0, 0, 0, 0, 0, 0, 0, 0, 0, 0, 0, 0, 0, 2, 0, 2, 0, 0,\n",
       "       0, 0, 0, 0, 0, 2, 0, 2, 0, 0, 0, 0, 0, 0, 0, 0, 0, 0, 0, 0, 0, 0,\n",
       "       0, 0, 0, 0, 0, 0, 0, 2, 0, 0, 0, 0, 0, 0, 0, 0, 0, 0, 0, 0, 0, 1,\n",
       "       1, 1, 1, 1, 1, 1, 1, 1, 1, 1, 1, 1, 1, 1, 1, 1, 1, 1, 1, 1, 1, 1,\n",
       "       1, 1, 1, 1, 1, 1, 1, 1, 1, 1, 1, 1, 1, 1, 1, 1, 1, 1, 1, 1, 1, 1,\n",
       "       1, 1, 1, 1, 1, 1, 1, 1, 1, 1, 1, 1, 1, 1, 1, 1, 1, 1, 1, 1, 1, 1,\n",
       "       1, 1, 1, 1, 1, 1, 1, 1, 1, 1, 1, 1, 1, 1, 1, 1, 1, 1, 1, 1, 1, 1,\n",
       "       1, 1, 1, 1, 1, 1, 1, 1, 1, 1, 1, 1, 1, 1, 1, 1, 1, 1, 1, 1, 1, 1,\n",
       "       1, 1, 1, 1, 1, 1, 1, 1, 1, 1, 1, 1])"
      ]
     },
     "execution_count": 177,
     "metadata": {},
     "output_type": "execute_result"
    }
   ],
   "source": [
    "kmeans.labels_"
   ]
  },
  {
   "cell_type": "code",
   "execution_count": 179,
   "id": "e24e74ac",
   "metadata": {},
   "outputs": [
    {
     "data": {
      "text/plain": [
       "Counter({2: 132, 0: 87, 1: 123})"
      ]
     },
     "execution_count": 179,
     "metadata": {},
     "output_type": "execute_result"
    }
   ],
   "source": [
    "Counter(kmeans.labels_)"
   ]
  },
  {
   "cell_type": "code",
   "execution_count": 176,
   "id": "f6c926cf",
   "metadata": {},
   "outputs": [
    {
     "data": {
      "text/plain": [
       "<matplotlib.collections.PathCollection at 0x1cfb382ef70>"
      ]
     },
     "execution_count": 176,
     "metadata": {},
     "output_type": "execute_result"
    },
    {
     "data": {
      "image/png": "[encoded data removed]",
      "text/plain": [
       "<Figure size 432x288 with 1 Axes>"
      ]
     },
     "metadata": {},
     "output_type": "display_data"
    }
   ],
   "source": [
    "plt.scatter(scaled_cluster_array[:, 0], scaled_cluster_array[:, 1], c=y_kmeans, s=50, cmap='viridis')\n",
    "\n",
    "centers = kmeans.cluster_centers_\n",
    "plt.scatter(centers[:, 0], centers[:, 1], c='black', s=200, alpha=0.5)"
   ]
  }
 ],
 "metadata": {},
 "nbformat": 4,
 "nbformat_minor": 5
}
