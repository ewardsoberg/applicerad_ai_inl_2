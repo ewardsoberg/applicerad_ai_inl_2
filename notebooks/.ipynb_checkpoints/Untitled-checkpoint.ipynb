{
 "cells": [
  {
   "cell_type": "markdown",
   "id": "b91cc0b7",
   "metadata": {},
   "source": [
    "## 1 Importer"
   ]
  },
  {
   "cell_type": "code",
   "execution_count": null,
   "id": "7585eeee",
   "metadata": {},
   "outputs": [],
   "source": [
    "#Imports\n",
    "import matplotlib.pyplot as plt\n",
    "from imblearn.over_sampling import SMOTE\n",
    "from imblearn.pipeline import make_pipeline as smp\n",
    "from sklearn.preprocessing import StandardScaler, OneHotEncoder \n",
    "from sklearn.neighbors import KNeighborsClassifier\n",
    "from sklearn.metrics import classification_report, confusion_matrix, ConfusionMatrixDisplay, silhouette_score, mean_squared_error, r2_score\n",
    "from sklearn.pipeline import make_pipeline\n",
    "from sklearn.linear_model import LogisticRegression\n",
    "from sklearn.model_selection import cross_val_score, train_test_split\n",
    "from sklearn.feature_selection import f_regression, SelectKBest, r_regression\n",
    "import pandas as pd\n",
    "import numpy as np\n",
    "import seaborn as sns\n",
    "from sklearn.cluster import KMeans\n",
    "from kneed import KneeLocator\n",
    "from collections import Counter\n",
    "from sklearn import linear_model\n"
   ]
  },
  {
   "cell_type": "markdown",
   "id": "16e348a5",
   "metadata": {},
   "source": [
    "## 2 Klassifikation, läs in dataset"
   ]
  },
  {
   "cell_type": "code",
   "execution_count": null,
   "id": "380e6351",
   "metadata": {},
   "outputs": [],
   "source": [
    "train_df = pd.read_csv('../datasets/class_train.csv')\n",
    "test_df = pd.read_csv('../datasets/class_test.csv')"
   ]
  },
  {
   "cell_type": "markdown",
   "id": "b1d57185",
   "metadata": {},
   "source": [
    "Splitta upp i X_train, y_train, X_test, y_test, där X är alla labels förutom Outcome och y är Outcome"
   ]
  },
  {
   "cell_type": "code",
   "execution_count": null,
   "id": "335264d2",
   "metadata": {},
   "outputs": [],
   "source": [
    "X_train = train_df.iloc[:,:-1]\n",
    "y_train = train_df.iloc[:,-1]\n",
    "X_test = test_df.iloc[:,:-1]\n",
    "y_test = test_df.iloc[:,-1]"
   ]
  },
  {
   "cell_type": "code",
   "execution_count": null,
   "id": "fe3e7731",
   "metadata": {},
   "outputs": [],
   "source": [
    "X_train"
   ]
  },
  {
   "cell_type": "code",
   "execution_count": null,
   "id": "a16ffb5f",
   "metadata": {},
   "outputs": [],
   "source": [
    "y_train"
   ]
  },
  {
   "cell_type": "markdown",
   "id": "75ab0c8a",
   "metadata": {},
   "source": [
    "### 2.1 DataAnalys, Kolla klass imbalans och Null värden"
   ]
  },
  {
   "cell_type": "code",
   "execution_count": null,
   "id": "2745901d",
   "metadata": {},
   "outputs": [],
   "source": [
    "train_df.isnull().values.any().sum()"
   ]
  },
  {
   "cell_type": "code",
   "execution_count": null,
   "id": "b977f606",
   "metadata": {},
   "outputs": [],
   "source": [
    "test_df.isnull().values.any().sum()"
   ]
  },
  {
   "cell_type": "code",
   "execution_count": null,
   "id": "67489819",
   "metadata": {},
   "outputs": [],
   "source": [
    "outcome = sns.countplot(x=train_df['Outcome'])\n",
    "outcome.set_xticklabels(['Outcome0','Outcome1'])\n",
    "plt.show()"
   ]
  },
  {
   "cell_type": "markdown",
   "id": "59ca8593",
   "metadata": {},
   "source": [
    "Testar Imbalanced learn paketet och använder SMOTE - Synthetic Minority Over-sampling Technique för att göra Over_sampling."
   ]
  },
  {
   "cell_type": "code",
   "execution_count": null,
   "id": "2761c617",
   "metadata": {},
   "outputs": [],
   "source": [
    "smote = SMOTE()\n",
    "\n",
    "# fit predictor and target variable\n",
    "X_smote, y_smote = smote.fit_resample(X_train, y_train)\n",
    "\n",
    "print('Original dataset shape', Counter(y_train))\n",
    "print('Resample dataset shape', Counter(y_smote))"
   ]
  },
  {
   "cell_type": "markdown",
   "id": "cc4accde",
   "metadata": {},
   "source": [
    "### 2.2 Modell"
   ]
  },
  {
   "cell_type": "markdown",
   "id": "bd551548",
   "metadata": {},
   "source": [
    "Här används LogisticRegression utan SMOTE. F1-weighted score = 0.49"
   ]
  },
  {
   "cell_type": "code",
   "execution_count": null,
   "id": "48bfa259",
   "metadata": {},
   "outputs": [],
   "source": [
    "clf_log_reg = make_pipeline(StandardScaler(), LogisticRegression(random_state=0))\n",
    "clf_log_reg.fit(X_train, y_train)\n",
    "\n",
    "y_pred_cls_log = clf_log_reg.predict(X_test)\n",
    "\n",
    "cm = confusion_matrix(y_test, y_pred_cls_log)\n",
    "cm_display = ConfusionMatrixDisplay(cm).plot()\n",
    "print(classification_report(y_test, y_pred_cls_log))"
   ]
  },
  {
   "cell_type": "markdown",
   "id": "27f991d7",
   "metadata": {},
   "source": [
    "Här används LogisticRegression med SMOTE. F1-weighted score = 0.53"
   ]
  },
  {
   "cell_type": "code",
   "execution_count": null,
   "id": "c076c81c",
   "metadata": {},
   "outputs": [],
   "source": [
    "imba_pipeline_log_reg = smp(SMOTE(),\n",
    "                StandardScaler(),\n",
    "                    LogisticRegression(random_state=0))\n",
    "imba_pipeline_log_reg.fit(X_train, y_train)\n",
    "\n",
    "y_pred_imba_pipline_log_reg = imba_pipeline_log_reg.predict(X_test)\n",
    "\n",
    "cm = confusion_matrix(y_test, y_pred_imba_pipline_log_reg)\n",
    "cm_display = ConfusionMatrixDisplay(cm).plot()\n",
    "print(classification_report(y_test, y_pred_imba_pipline_log_reg))"
   ]
  },
  {
   "cell_type": "markdown",
   "id": "fa86b9d9",
   "metadata": {},
   "source": [
    "Här används KNeighborsClassifier utan SMOTE. F1-weighted score = 0.45"
   ]
  },
  {
   "cell_type": "code",
   "execution_count": null,
   "id": "66b7b651",
   "metadata": {},
   "outputs": [],
   "source": [
    "clf_k_neig = make_pipeline(StandardScaler(), KNeighborsClassifier(n_neighbors=5))\n",
    "clf_k_neig.fit(X_train, y_train)\n",
    "\n",
    "y_pred_clf_k_neig = clf_k_neig.predict(X_test)\n",
    "\n",
    "cm = confusion_matrix(y_test, y_pred_clf_k_neig)\n",
    "cm_display = ConfusionMatrixDisplay(cm).plot()\n",
    "print(classification_report(y_test, y_pred_clf_k_neig))"
   ]
  },
  {
   "cell_type": "markdown",
   "id": "ce725173",
   "metadata": {},
   "source": [
    "Här används KNeighborsClassifier med SMOTE. F1-weighted score = 0.49"
   ]
  },
  {
   "cell_type": "code",
   "execution_count": null,
   "id": "c65f06f1",
   "metadata": {},
   "outputs": [],
   "source": [
    "imba_pipeline_k_neig = smp(SMOTE(),\n",
    "                StandardScaler(),\n",
    "                KNeighborsClassifier(n_neighbors=5))\n",
    "imba_pipeline_k_neig.fit(X_train, y_train)\n",
    "\n",
    "y_pred_imba_pipline_k_neig = imba_pipeline_k_neig.predict(X_test)\n",
    "\n",
    "cm = confusion_matrix(y_test, y_pred_imba_pipline_k_neig)\n",
    "cm_display = ConfusionMatrixDisplay(cm).plot()\n",
    "print(classification_report(y_test, y_pred_imba_pipline_k_neig))"
   ]
  },
  {
   "cell_type": "markdown",
   "id": "6993df61",
   "metadata": {},
   "source": [
    "# 3 Regression"
   ]
  },
  {
   "cell_type": "markdown",
   "id": "96eaa56b",
   "metadata": {},
   "source": [
    "### 3.1 Load Data / Drop Na"
   ]
  },
  {
   "cell_type": "code",
   "execution_count": null,
   "id": "8e303008",
   "metadata": {},
   "outputs": [],
   "source": [
    "regression_test_data = pd.read_csv('../datasets/regression_test.csv')\n",
    "regression_train_data = pd.read_csv('../datasets/regression_train.csv')\n",
    "regression_test_data.dropna(axis=1, inplace=True)\n",
    "regression_train_data.dropna(axis=1, inplace=True)\n",
    "[regression_test_data.drop(y, axis=1, inplace=True) for y in list(regression_test_data.columns) if y not in list(regression_train_data.columns)]"
   ]
  },
  {
   "cell_type": "markdown",
   "id": "b9afb91e",
   "metadata": {},
   "source": [
    "### 3.2 Correlations to Sale price"
   ]
  },
  {
   "cell_type": "markdown",
   "id": "93544f10",
   "metadata": {},
   "source": [
    "#### 3.2.1 Drop String values"
   ]
  },
  {
   "cell_type": "code",
   "execution_count": null,
   "id": "7a4dfd96",
   "metadata": {
    "scrolled": true
   },
   "outputs": [],
   "source": [
    "for col in cols:\n",
    "    if regression_train_data[col].dtype == object:\n",
    "        regression_test_data.drop(col, axis=1, inplace=True)\n",
    "        regression_train_data.drop(col, axis=1, inplace=True)\n",
    "cols= list(regression_train_data.columns)"
   ]
  },
  {
   "cell_type": "markdown",
   "id": "bda13919",
   "metadata": {},
   "source": [
    "#### 3.2.2 Get Features using sklearn"
   ]
  },
  {
   "cell_type": "code",
   "execution_count": null,
   "id": "2b9f5a16",
   "metadata": {},
   "outputs": [],
   "source": [
    "y_train=regression_train_data['SalePrice']\n",
    "\n",
    "X_train=regression_train_data.drop('SalePrice', axis=1)\n",
    "\n",
    "selector = SelectKBest(f_regression, k = 10)\n",
    "\n",
    "X_new = selector.fit_transform(X_train, y_train)\n",
    "\n",
    "names = X_train.columns.values[selector.get_support()]\n",
    "\n",
    "scores = selector.scores_[selector.get_support()]\n",
    "\n",
    "corr_sklearn_f_regression = pd.Series(data=scores, index=names, name='SalePrice')\n",
    "corr_sklearn_f_regression.sort_values(inplace=True, ascending=False)\n",
    "\n",
    "plt.figure(figsize=(28,10))\n",
    "plt.xticks(rotation=90, fontsize=25)\n",
    "plt.yticks(fontsize=20)\n",
    "plt.bar(corr_sklearn_f_regression.index, corr_sklearn_f_regression.values)\n",
    "plt.show()"
   ]
  },
  {
   "cell_type": "code",
   "execution_count": null,
   "id": "9cba0ae6",
   "metadata": {},
   "outputs": [],
   "source": [
    "y_train=regression_train_data['SalePrice']\n",
    "\n",
    "X_train=regression_train_data.drop('SalePrice', axis=1)\n",
    "\n",
    "selector = SelectKBest(r_regression, k = 10)\n",
    "\n",
    "X_new = selector.fit_transform(X_train, y_train)\n",
    "\n",
    "names = X_train.columns.values[selector.get_support()]\n",
    "\n",
    "scores = selector.scores_[selector.get_support()]\n",
    "\n",
    "names_scores = list(zip(names, scores))\n",
    "\n",
    "ns_df = pd.DataFrame(data = names_scores, columns=['Feat_names', 'R_Scores'])\n",
    "\n",
    "corr_sklearn_r_regression = pd.Series(data=scores, index=names, name='SalePrice')\n",
    "corr_sklearn_r_regression.sort_values(inplace=True, ascending=False)\n",
    "\n",
    "plt.figure(figsize=(28,10))\n",
    "plt.xticks(rotation=90, fontsize=25)\n",
    "plt.yticks(fontsize=20)\n",
    "plt.bar(corr_sklearn_r_regression.index, corr_sklearn_r_regression.values)\n",
    "plt.show()"
   ]
  },
  {
   "cell_type": "code",
   "execution_count": null,
   "id": "ddfebe66",
   "metadata": {},
   "outputs": [],
   "source": [
    "mean=((0.808370+0.667329+0.788697)/3)\n",
    "scalar=(mean/results[0][1])"
   ]
  },
  {
   "cell_type": "code",
   "execution_count": null,
   "id": "07334c75",
   "metadata": {},
   "outputs": [],
   "source": [
    "corr_sklearn_f_regression = pd.DataFrame(corr_sklearn_f_regression.apply(lambda x: x*scalar))\n",
    "corr_sklearn_f_regression['method']='sklearn f_regression'\n",
    "corr_sklearn_r_regression = pd.DataFrame(corr_sklearn_r_regression)\n",
    "corr_sklearn_r_regression['method']='sklearn r_regression (pearson)'\n",
    "\n",
    "compare_sklearn = pd.concat([corr_sklearn_f_regression, corr_sklearn_r_regression])"
   ]
  },
  {
   "cell_type": "markdown",
   "id": "40d6a0f7",
   "metadata": {},
   "source": [
    "#### 3.2.3 Get features using Pandas correlations"
   ]
  },
  {
   "cell_type": "code",
   "execution_count": null,
   "id": "fc2f8ccf",
   "metadata": {},
   "outputs": [],
   "source": [
    "corrs_pearson=regression_train_data.corr(method='pearson')['SalePrice'][:]\n",
    "corrs_kendall=regression_train_data.corr(method='kendall')['SalePrice'][:]\n",
    "corrs_spearman=regression_train_data.corr(method='spearman')['SalePrice'][:]\n",
    "\n",
    "corrs_pearson.sort_values(ascending=False, inplace=True)\n",
    "corrs_kendall.sort_values(ascending=False, inplace=True)\n",
    "corrs_spearman.sort_values(ascending=False, inplace=True)\n",
    "\n",
    "corrs_pearson=pd.DataFrame(corrs_pearson[1:11])\n",
    "corrs_spearman=pd.DataFrame(corrs_spearman[1:11])\n",
    "corrs_kendall=pd.DataFrame(corrs_kendall[1:11])\n",
    "corrs_pearson['method'] = 'pearson'\n",
    "corrs_spearman['method']='spearman'\n",
    "corrs_kendall['method']='kendall'\n",
    "\n",
    "compare = pd.concat([corrs_kendall, corrs_pearson, corrs_spearman])\n",
    "\n",
    "plt.figure(figsize=(30,15))\n",
    "plt.xticks(rotation=90, fontsize=25)\n",
    "plt.yticks(fontsize=20)\n",
    "sns.barplot(x=compare.index, y=compare['SalePrice'], data=compare, hue='method')\n",
    "plt.ylabel('Correlation', fontsize=25)\n",
    "plt.show()"
   ]
  },
  {
   "cell_type": "markdown",
   "id": "cbcc5b48",
   "metadata": {},
   "source": [
    "#### 3.2.4 Compare Features"
   ]
  },
  {
   "cell_type": "code",
   "execution_count": null,
   "id": "af54bc9a",
   "metadata": {},
   "outputs": [],
   "source": [
    "compare_all = pd.concat([compare, compare_sklearn])"
   ]
  },
  {
   "cell_type": "code",
   "execution_count": null,
   "id": "7481c0fb",
   "metadata": {},
   "outputs": [],
   "source": [
    "plt.figure(figsize=(30,15))\n",
    "plt.xticks(rotation=90, fontsize=25)\n",
    "plt.yticks(fontsize=20)\n",
    "sns.barplot(x=compare_all.index, y=compare_all['SalePrice'], data=compare_all, hue='method')\n",
    "plt.ylabel('Correlation', fontsize=25)\n",
    "plt.show()"
   ]
  },
  {
   "cell_type": "markdown",
   "id": "3da600fd",
   "metadata": {},
   "source": [
    "### 3.4 Linear Regression"
   ]
  },
  {
   "cell_type": "markdown",
   "id": "d5a5e0a9",
   "metadata": {},
   "source": [
    "#### 3.4.1 Choose Relevant Features"
   ]
  },
  {
   "cell_type": "code",
   "execution_count": null,
   "id": "39d7568e",
   "metadata": {},
   "outputs": [],
   "source": [
    "X_train = np.array(regression_train_data['OverallQual'])\n",
    "X_test = np.array(regression_test_data['OverallQual'])\n",
    "X_test_plot = X_test\n",
    "X_train=X_train.reshape(-1, 1)\n",
    "X_test=X_test.reshape(-1, 1)"
   ]
  },
  {
   "cell_type": "markdown",
   "id": "e4925dbb",
   "metadata": {},
   "source": [
    "#### 3.4.2 Predict without OneHot"
   ]
  },
  {
   "cell_type": "code",
   "execution_count": null,
   "id": "585756aa",
   "metadata": {},
   "outputs": [],
   "source": [
    "regr = linear_model.LinearRegression()\n",
    "\n",
    "regr.fit(X_train, y_train)\n",
    "\n",
    "y_pred = regr.predict(X_test)\n",
    "\n",
    "# The coefficients\n",
    "print(\"Coefficients: \\n\", regr.coef_)\n",
    "# The mean squared error\n",
    "print(\"Mean squared error: %.2f\" % mean_squared_error(y_test, y_pred))\n",
    "# The coefficient of determination: 1 is perfect prediction\n",
    "print(\"Coefficient of determination: %.2f\" % r2_score(y_test, y_pred))\n",
    "\n",
    "# Plot outputs\n",
    "plt.figure(figsize=(20,8))\n",
    "plt.scatter(X_test_plot, y_test, color=\"black\")\n",
    "\n",
    "plt.plot(X_test_plot, y_pred, color=\"red\", linewidth=3)\n",
    "plt.xlabel('Quality')\n",
    "plt.ylabel('Price')\n",
    "\n",
    "\n",
    "plt.show()"
   ]
  },
  {
   "cell_type": "markdown",
   "id": "5214f5f1",
   "metadata": {},
   "source": [
    "#### 3.4.3 Predict With OneHot"
   ]
  },
  {
   "cell_type": "code",
   "execution_count": null,
   "id": "ceeb7b31",
   "metadata": {},
   "outputs": [],
   "source": [
    "enc = OneHotEncoder(sparse=False)\n",
    "X_train = enc.fit_transform(X_train)\n",
    "X_test = enc.fit_transform(X_test)\n",
    "X_test = np.array([np.append(0, x) for x in X_test])"
   ]
  },
  {
   "cell_type": "code",
   "execution_count": null,
   "id": "df3eef9f",
   "metadata": {},
   "outputs": [],
   "source": [
    "regr = linear_model.LinearRegression()\n",
    "\n",
    "regr.fit(X_train, y_train)\n",
    "\n",
    "y_pred = regr.predict(X_test)\n",
    "\n",
    "# The coefficients\n",
    "print(\"Coefficients: \\n\", regr.coef_)\n",
    "# The mean squared error\n",
    "print(\"Mean squared error: %.2f\" % mean_squared_error(y_test, y_pred))\n",
    "# The coefficient of determination: 1 is perfect prediction\n",
    "print(\"Coefficient of determination: %.2f\" % r2_score(y_test, y_pred))\n",
    "\n",
    "# Plot outputs\n",
    "plt.figure(figsize=(20,8))\n",
    "plt.scatter(X_test_plot, y_test, color=\"black\")\n",
    "\n",
    "plt.scatter(X_test_plot, y_pred, color=\"red\", linewidths=8)\n",
    "plt.xlabel('Quality')\n",
    "plt.ylabel('Price')\n",
    "\n",
    "\n",
    "plt.show()"
   ]
  },
  {
   "cell_type": "markdown",
   "id": "8f58179d",
   "metadata": {},
   "source": [
    "### 3.5 Multiple Regression With 10 Features"
   ]
  },
  {
   "cell_type": "markdown",
   "id": "0717e36a",
   "metadata": {},
   "source": [
    "#### 3.5.1 Choose Relevant Features"
   ]
  },
  {
   "cell_type": "code",
   "execution_count": null,
   "id": "99c38aa1",
   "metadata": {},
   "outputs": [],
   "source": [
    "X_train = regression_train_data[list(corrs_pearson.index)]\n",
    "X_test = regression_test_data[list(corrs_pearson.index)]"
   ]
  },
  {
   "cell_type": "markdown",
   "id": "24d6aa66",
   "metadata": {},
   "source": [
    "#### 3.5.2 Predict"
   ]
  },
  {
   "cell_type": "code",
   "execution_count": null,
   "id": "a3e258bc",
   "metadata": {},
   "outputs": [],
   "source": [
    "\n",
    "regr = linear_model.LinearRegression()\n",
    "\n",
    "regr.fit(X_train, y_train)\n",
    "\n",
    "y_pred = regr.predict(X_test)\n",
    "\n",
    "# The coefficients\n",
    "print(\"Coefficients: \\n\", regr.coef_)\n",
    "# The mean squared error\n",
    "print(\"Mean squared error: %.2f\" % mean_squared_error(y_test, y_pred))\n",
    "# The coefficient of determination: 1 is perfect prediction\n",
    "print(\"Coefficient of determination: %.2f\" % r2_score(y_test, y_pred))\n",
    "\n"
   ]
  },
  {
   "cell_type": "markdown",
   "id": "a87e434a",
   "metadata": {},
   "source": [
    "# 4 Klustering"
   ]
  },
  {
   "cell_type": "markdown",
   "id": "6438d33c",
   "metadata": {},
   "source": [
    "### Läs in data"
   ]
  },
  {
   "cell_type": "code",
   "execution_count": null,
   "id": "7e1854a9",
   "metadata": {},
   "outputs": [],
   "source": [
    "cluster_df = pd.read_csv('../datasets/cluster_Data.csv')"
   ]
  },
  {
   "cell_type": "code",
   "execution_count": null,
   "id": "86f58f2c",
   "metadata": {},
   "outputs": [],
   "source": [
    "cluster_df"
   ]
  },
  {
   "cell_type": "code",
   "execution_count": null,
   "id": "edb96412",
   "metadata": {},
   "outputs": [],
   "source": [
    "cluster_array = cluster_df.to_numpy()"
   ]
  },
  {
   "cell_type": "code",
   "execution_count": null,
   "id": "9f1ecfd5",
   "metadata": {},
   "outputs": [],
   "source": [
    "cluster_array"
   ]
  },
  {
   "cell_type": "markdown",
   "id": "fda4a0a0",
   "metadata": {},
   "source": [
    "Standariserar värdena i cluster_array med hjälp av scikit-learn StandardSclaer()"
   ]
  },
  {
   "cell_type": "code",
   "execution_count": null,
   "id": "988f2ea2",
   "metadata": {},
   "outputs": [],
   "source": [
    "scaler = StandardScaler()\n",
    "scaled_cluster_array = scaler.fit_transform(cluster_array)"
   ]
  },
  {
   "cell_type": "code",
   "execution_count": null,
   "id": "3cb91539",
   "metadata": {},
   "outputs": [],
   "source": [
    "scaled_cluster_array"
   ]
  },
  {
   "cell_type": "markdown",
   "id": "1f9e8c7d",
   "metadata": {},
   "source": [
    "Tar reda på optimala k med hjälp av the elbow method."
   ]
  },
  {
   "cell_type": "code",
   "execution_count": null,
   "id": "2d2407e0",
   "metadata": {},
   "outputs": [],
   "source": [
    "kmeans_kwargs = {\n",
    "\"init\": \"random\",\n",
    "\"n_init\": 10,\n",
    "\"max_iter\": 300,\n",
    "\"random_state\": 42,\n",
    "}"
   ]
  },
  {
   "cell_type": "code",
   "execution_count": null,
   "id": "19126c1a",
   "metadata": {},
   "outputs": [],
   "source": [
    "wcss=[]\n",
    "for i in range(1,10):\n",
    "    kmeans = KMeans(n_clusters=i, **kmeans_kwargs)\n",
    "    kmeans.fit(scaled_cluster_array)\n",
    "    wcss_iter = kmeans.inertia_\n",
    "    wcss.append(wcss_iter)\n",
    "\n",
    "number_clusters = range(1,10)\n",
    "plt.plot(number_clusters,wcss)\n",
    "plt.title('The Elbow title')\n",
    "plt.xlabel('Number of clusters')\n",
    "plt.ylabel('WCSS')"
   ]
  },
  {
   "cell_type": "code",
   "execution_count": null,
   "id": "cf442409",
   "metadata": {},
   "outputs": [],
   "source": [
    "kl = KneeLocator(range(1, 10), wcss, curve=\"convex\", direction=\"decreasing\")\n",
    "print(kl.elbow)"
   ]
  },
  {
   "cell_type": "markdown",
   "id": "d5c1fb45",
   "metadata": {},
   "source": [
    "Testar silhouette_coefficients för att ta reda på optimala k"
   ]
  },
  {
   "cell_type": "code",
   "execution_count": null,
   "id": "80cf5683",
   "metadata": {},
   "outputs": [],
   "source": [
    "silhouette_coefficients = []\n",
    "for k in range(2, 11):\n",
    "    kmeans = KMeans(n_clusters=k, **kmeans_kwargs)\n",
    "    kmeans.fit(scaled_cluster_array)\n",
    "    score = silhouette_score(scaled_cluster_array, kmeans.labels_)\n",
    "    silhouette_coefficients.append(score)"
   ]
  },
  {
   "cell_type": "code",
   "execution_count": null,
   "id": "93e7984f",
   "metadata": {},
   "outputs": [],
   "source": [
    "plt.style.use(\"fivethirtyeight\")\n",
    "plt.plot(range(2, 11), silhouette_coefficients)\n",
    "plt.xticks(range(2, 11))\n",
    "plt.xlabel(\"Number of Clusters\")\n",
    "plt.ylabel(\"Silhouette Coefficient\")\n",
    "plt.show()"
   ]
  },
  {
   "cell_type": "code",
   "execution_count": null,
   "id": "bc6ea568",
   "metadata": {},
   "outputs": [],
   "source": [
    "kmeans = KMeans(n_clusters=3)\n",
    "kmeans.fit(scaled_cluster_array)\n",
    "y_kmeans = kmeans.predict(scaled_cluster_array)"
   ]
  },
  {
   "cell_type": "code",
   "execution_count": null,
   "id": "03fd713b",
   "metadata": {},
   "outputs": [],
   "source": [
    "kmeans.labels_"
   ]
  },
  {
   "cell_type": "code",
   "execution_count": null,
   "id": "8cc7ea4e",
   "metadata": {},
   "outputs": [],
   "source": [
    "Counter(kmeans.labels_)"
   ]
  },
  {
   "cell_type": "code",
   "execution_count": null,
   "id": "ad85b3f7",
   "metadata": {},
   "outputs": [],
   "source": [
    "plt.scatter(scaled_cluster_array[:, 0], scaled_cluster_array[:, 1], c=y_kmeans, s=50, cmap='viridis')\n",
    "\n",
    "centers = kmeans.cluster_centers_\n",
    "plt.scatter(centers[:, 0], centers[:, 1], c='black', s=200, alpha=0.5)"
   ]
  }
 ],
 "metadata": {
  "kernelspec": {
   "display_name": "Python 3 (ipykernel)",
   "language": "python",
   "name": "python3"
  },
  "language_info": {
   "codemirror_mode": {
    "name": "ipython",
    "version": 3
   },
   "file_extension": ".py",
   "mimetype": "text/x-python",
   "name": "python",
   "nbconvert_exporter": "python",
   "pygments_lexer": "ipython3",
   "version": "3.9.6"
  }
 },
 "nbformat": 4,
 "nbformat_minor": 5
}
